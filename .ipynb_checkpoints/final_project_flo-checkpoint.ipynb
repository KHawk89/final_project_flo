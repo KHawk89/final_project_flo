{
 "cells": [
  {
   "cell_type": "code",
   "execution_count": 33,
   "id": "7d6798bb",
   "metadata": {},
   "outputs": [
    {
     "name": "stdout",
     "output_type": "stream",
     "text": [
      "Collecting cdstoolbox-remote\n",
      "  Downloading cdstoolbox_remote-0.0.1-py3-none-any.whl (3.1 kB)\n",
      "Requirement already satisfied: cdsapi>=0.2.3 in c:\\users\\flo\\anaconda3\\lib\\site-packages (from cdstoolbox-remote) (0.5.1)\n",
      "Requirement already satisfied: tqdm in c:\\users\\flo\\anaconda3\\lib\\site-packages (from cdsapi>=0.2.3->cdstoolbox-remote) (4.59.0)\n",
      "Requirement already satisfied: requests>=2.5.0 in c:\\users\\flo\\anaconda3\\lib\\site-packages (from cdsapi>=0.2.3->cdstoolbox-remote) (2.25.1)\n",
      "Requirement already satisfied: urllib3<1.27,>=1.21.1 in c:\\users\\flo\\anaconda3\\lib\\site-packages (from requests>=2.5.0->cdsapi>=0.2.3->cdstoolbox-remote) (1.26.4)\n",
      "Requirement already satisfied: chardet<5,>=3.0.2 in c:\\users\\flo\\anaconda3\\lib\\site-packages (from requests>=2.5.0->cdsapi>=0.2.3->cdstoolbox-remote) (3.0.4)\n",
      "Requirement already satisfied: certifi>=2017.4.17 in c:\\users\\flo\\anaconda3\\lib\\site-packages (from requests>=2.5.0->cdsapi>=0.2.3->cdstoolbox-remote) (2020.12.5)\n",
      "Requirement already satisfied: idna<3,>=2.5 in c:\\users\\flo\\anaconda3\\lib\\site-packages (from requests>=2.5.0->cdsapi>=0.2.3->cdstoolbox-remote) (2.10)\n",
      "Installing collected packages: cdstoolbox-remote\n",
      "Successfully installed cdstoolbox-remote-0.0.1\n",
      "Note: you may need to restart the kernel to use updated packages.\n"
     ]
    }
   ],
   "source": [
    "pip install cdstoolbox-remote"
   ]
  },
  {
   "cell_type": "code",
   "execution_count": 34,
   "id": "8b540865",
   "metadata": {
    "scrolled": true
   },
   "outputs": [
    {
     "ename": "AttributeError",
     "evalue": "module '__main__' has no attribute '__file__'",
     "output_type": "error",
     "traceback": [
      "\u001b[1;31m---------------------------------------------------------------------------\u001b[0m",
      "\u001b[1;31mAttributeError\u001b[0m                            Traceback (most recent call last)",
      "\u001b[1;32m<ipython-input-34-9c392337f288>\u001b[0m in \u001b[0;36m<module>\u001b[1;34m\u001b[0m\n\u001b[0;32m      2\u001b[0m \u001b[1;32mimport\u001b[0m \u001b[0mxarray\u001b[0m \u001b[1;32mas\u001b[0m \u001b[0mxr\u001b[0m\u001b[1;33m\u001b[0m\u001b[1;33m\u001b[0m\u001b[0m\n\u001b[0;32m      3\u001b[0m \u001b[1;32mimport\u001b[0m \u001b[0mcdsapi\u001b[0m\u001b[1;33m\u001b[0m\u001b[1;33m\u001b[0m\u001b[0m\n\u001b[1;32m----> 4\u001b[1;33m \u001b[1;32mimport\u001b[0m \u001b[0mcdstoolbox\u001b[0m \u001b[1;32mas\u001b[0m \u001b[0mct\u001b[0m\u001b[1;33m\u001b[0m\u001b[1;33m\u001b[0m\u001b[0m\n\u001b[0m",
      "\u001b[1;32m~\\anaconda3\\lib\\site-packages\\cdstoolbox\\__init__.py\u001b[0m in \u001b[0;36m<module>\u001b[1;34m\u001b[0m\n\u001b[0;32m      6\u001b[0m \u001b[0mc\u001b[0m \u001b[1;33m=\u001b[0m \u001b[0mcdsapi\u001b[0m\u001b[1;33m.\u001b[0m\u001b[0mClient\u001b[0m\u001b[1;33m(\u001b[0m\u001b[1;33m)\u001b[0m\u001b[1;33m\u001b[0m\u001b[1;33m\u001b[0m\u001b[0m\n\u001b[0;32m      7\u001b[0m \u001b[1;33m\u001b[0m\u001b[0m\n\u001b[1;32m----> 8\u001b[1;33m \u001b[1;32mwith\u001b[0m \u001b[0mopen\u001b[0m\u001b[1;33m(\u001b[0m\u001b[0m__main__\u001b[0m\u001b[1;33m.\u001b[0m\u001b[0m__file__\u001b[0m\u001b[1;33m)\u001b[0m \u001b[1;32mas\u001b[0m \u001b[0mf\u001b[0m\u001b[1;33m:\u001b[0m\u001b[1;33m\u001b[0m\u001b[1;33m\u001b[0m\u001b[0m\n\u001b[0m\u001b[0;32m      9\u001b[0m    \u001b[0mcode\u001b[0m \u001b[1;33m=\u001b[0m \u001b[0mf\u001b[0m\u001b[1;33m.\u001b[0m\u001b[0mread\u001b[0m\u001b[1;33m(\u001b[0m\u001b[1;33m)\u001b[0m\u001b[1;33m\u001b[0m\u001b[1;33m\u001b[0m\u001b[0m\n\u001b[0;32m     10\u001b[0m \u001b[1;33m\u001b[0m\u001b[0m\n",
      "\u001b[1;31mAttributeError\u001b[0m: module '__main__' has no attribute '__file__'"
     ]
    }
   ],
   "source": [
    "import pandas as pd\n",
    "import xarray as xr\n",
    "import cdsapi\n",
    "import cdstoolbox as ct"
   ]
  },
  {
   "cell_type": "code",
   "execution_count": 12,
   "id": "2f7be3d3",
   "metadata": {
    "scrolled": true
   },
   "outputs": [
    {
     "data": {
      "text/html": [
       "<div>\n",
       "<style scoped>\n",
       "    .dataframe tbody tr th:only-of-type {\n",
       "        vertical-align: middle;\n",
       "    }\n",
       "\n",
       "    .dataframe tbody tr th {\n",
       "        vertical-align: top;\n",
       "    }\n",
       "\n",
       "    .dataframe thead th {\n",
       "        text-align: right;\n",
       "    }\n",
       "</style>\n",
       "<table border=\"1\" class=\"dataframe\">\n",
       "  <thead>\n",
       "    <tr style=\"text-align: right;\">\n",
       "      <th></th>\n",
       "      <th></th>\n",
       "      <th></th>\n",
       "      <th></th>\n",
       "      <th>rotated_pole</th>\n",
       "      <th>time_bnds</th>\n",
       "      <th>fwi-mean-jjas</th>\n",
       "      <th>lon</th>\n",
       "      <th>lat</th>\n",
       "    </tr>\n",
       "    <tr>\n",
       "      <th>rlon</th>\n",
       "      <th>rlat</th>\n",
       "      <th>time</th>\n",
       "      <th>bnds</th>\n",
       "      <th></th>\n",
       "      <th></th>\n",
       "      <th></th>\n",
       "      <th></th>\n",
       "      <th></th>\n",
       "    </tr>\n",
       "  </thead>\n",
       "  <tbody>\n",
       "    <tr>\n",
       "      <th rowspan=\"5\" valign=\"top\">-28.375</th>\n",
       "      <th rowspan=\"5\" valign=\"top\">-23.375</th>\n",
       "      <th rowspan=\"2\" valign=\"top\">2015-11-01</th>\n",
       "      <th>0</th>\n",
       "      <td>b''</td>\n",
       "      <td>2015-11-01 00:00:00.000</td>\n",
       "      <td>36.335928</td>\n",
       "      <td>-10.063880</td>\n",
       "      <td>21.987829</td>\n",
       "    </tr>\n",
       "    <tr>\n",
       "      <th>1</th>\n",
       "      <td>b''</td>\n",
       "      <td>2016-10-31 23:59:59.600</td>\n",
       "      <td>36.335928</td>\n",
       "      <td>-10.063880</td>\n",
       "      <td>21.987829</td>\n",
       "    </tr>\n",
       "    <tr>\n",
       "      <th rowspan=\"2\" valign=\"top\">2016-11-01</th>\n",
       "      <th>0</th>\n",
       "      <td>b''</td>\n",
       "      <td>2016-11-01 00:00:00.000</td>\n",
       "      <td>49.590709</td>\n",
       "      <td>-10.063880</td>\n",
       "      <td>21.987829</td>\n",
       "    </tr>\n",
       "    <tr>\n",
       "      <th>1</th>\n",
       "      <td>b''</td>\n",
       "      <td>2017-10-31 23:59:59.600</td>\n",
       "      <td>49.590709</td>\n",
       "      <td>-10.063880</td>\n",
       "      <td>21.987829</td>\n",
       "    </tr>\n",
       "    <tr>\n",
       "      <th>2017-11-01</th>\n",
       "      <th>0</th>\n",
       "      <td>b''</td>\n",
       "      <td>2017-11-01 00:00:00.000</td>\n",
       "      <td>38.626711</td>\n",
       "      <td>-10.063880</td>\n",
       "      <td>21.987829</td>\n",
       "    </tr>\n",
       "    <tr>\n",
       "      <th>...</th>\n",
       "      <th>...</th>\n",
       "      <th>...</th>\n",
       "      <th>...</th>\n",
       "      <td>...</td>\n",
       "      <td>...</td>\n",
       "      <td>...</td>\n",
       "      <td>...</td>\n",
       "      <td>...</td>\n",
       "    </tr>\n",
       "    <tr>\n",
       "      <th rowspan=\"5\" valign=\"top\">18.155</th>\n",
       "      <th rowspan=\"5\" valign=\"top\">21.835</th>\n",
       "      <th>2017-11-01</th>\n",
       "      <th>1</th>\n",
       "      <td>b''</td>\n",
       "      <td>2018-10-31 23:59:59.600</td>\n",
       "      <td>1.242723</td>\n",
       "      <td>64.964377</td>\n",
       "      <td>66.689837</td>\n",
       "    </tr>\n",
       "    <tr>\n",
       "      <th rowspan=\"2\" valign=\"top\">2018-11-01</th>\n",
       "      <th>0</th>\n",
       "      <td>b''</td>\n",
       "      <td>2018-11-01 00:00:00.000</td>\n",
       "      <td>1.657166</td>\n",
       "      <td>64.964377</td>\n",
       "      <td>66.689837</td>\n",
       "    </tr>\n",
       "    <tr>\n",
       "      <th>1</th>\n",
       "      <td>b''</td>\n",
       "      <td>2019-10-31 23:59:59.600</td>\n",
       "      <td>1.657166</td>\n",
       "      <td>64.964377</td>\n",
       "      <td>66.689837</td>\n",
       "    </tr>\n",
       "    <tr>\n",
       "      <th rowspan=\"2\" valign=\"top\">2019-11-01</th>\n",
       "      <th>0</th>\n",
       "      <td>b''</td>\n",
       "      <td>2019-11-01 00:00:00.000</td>\n",
       "      <td>1.243404</td>\n",
       "      <td>64.964377</td>\n",
       "      <td>66.689837</td>\n",
       "    </tr>\n",
       "    <tr>\n",
       "      <th>1</th>\n",
       "      <td>b''</td>\n",
       "      <td>2020-10-31 23:59:59.600</td>\n",
       "      <td>1.243404</td>\n",
       "      <td>64.964377</td>\n",
       "      <td>66.689837</td>\n",
       "    </tr>\n",
       "  </tbody>\n",
       "</table>\n",
       "<p>1746880 rows × 5 columns</p>\n",
       "</div>"
      ],
      "text/plain": [
       "                                rotated_pole               time_bnds  \\\n",
       "rlon    rlat    time       bnds                                        \n",
       "-28.375 -23.375 2015-11-01 0             b'' 2015-11-01 00:00:00.000   \n",
       "                           1             b'' 2016-10-31 23:59:59.600   \n",
       "                2016-11-01 0             b'' 2016-11-01 00:00:00.000   \n",
       "                           1             b'' 2017-10-31 23:59:59.600   \n",
       "                2017-11-01 0             b'' 2017-11-01 00:00:00.000   \n",
       "...                                      ...                     ...   \n",
       " 18.155  21.835 2017-11-01 1             b'' 2018-10-31 23:59:59.600   \n",
       "                2018-11-01 0             b'' 2018-11-01 00:00:00.000   \n",
       "                           1             b'' 2019-10-31 23:59:59.600   \n",
       "                2019-11-01 0             b'' 2019-11-01 00:00:00.000   \n",
       "                           1             b'' 2020-10-31 23:59:59.600   \n",
       "\n",
       "                                 fwi-mean-jjas        lon        lat  \n",
       "rlon    rlat    time       bnds                                       \n",
       "-28.375 -23.375 2015-11-01 0         36.335928 -10.063880  21.987829  \n",
       "                           1         36.335928 -10.063880  21.987829  \n",
       "                2016-11-01 0         49.590709 -10.063880  21.987829  \n",
       "                           1         49.590709 -10.063880  21.987829  \n",
       "                2017-11-01 0         38.626711 -10.063880  21.987829  \n",
       "...                                        ...        ...        ...  \n",
       " 18.155  21.835 2017-11-01 1          1.242723  64.964377  66.689837  \n",
       "                2018-11-01 0          1.657166  64.964377  66.689837  \n",
       "                           1          1.657166  64.964377  66.689837  \n",
       "                2019-11-01 0          1.243404  64.964377  66.689837  \n",
       "                           1          1.243404  64.964377  66.689837  \n",
       "\n",
       "[1746880 rows x 5 columns]"
      ]
     },
     "execution_count": 12,
     "metadata": {},
     "output_type": "execute_result"
    }
   ],
   "source": [
    "ds = xr.open_dataset('forest_data.nc')\n",
    "df = ds.to_dataframe()\n",
    "df"
   ]
  },
  {
   "cell_type": "code",
   "execution_count": 35,
   "id": "f1a01659",
   "metadata": {},
   "outputs": [
    {
     "ename": "NameError",
     "evalue": "name 'cdstoolbox' is not defined",
     "output_type": "error",
     "traceback": [
      "\u001b[1;31m---------------------------------------------------------------------------\u001b[0m",
      "\u001b[1;31mNameError\u001b[0m                                 Traceback (most recent call last)",
      "\u001b[1;32m<ipython-input-35-a0291d367910>\u001b[0m in \u001b[0;36m<module>\u001b[1;34m\u001b[0m\n\u001b[0;32m      1\u001b[0m \u001b[0mc\u001b[0m \u001b[1;33m=\u001b[0m \u001b[0mcdsapi\u001b[0m\u001b[1;33m.\u001b[0m\u001b[0mClient\u001b[0m\u001b[1;33m(\u001b[0m\u001b[1;33m)\u001b[0m\u001b[1;33m\u001b[0m\u001b[1;33m\u001b[0m\u001b[0m\n\u001b[0;32m      2\u001b[0m \u001b[1;33m\u001b[0m\u001b[0m\n\u001b[1;32m----> 3\u001b[1;33m data = cdstoolbox.catalogue.retrieve(\n\u001b[0m\u001b[0;32m      4\u001b[0m     \u001b[1;34m'reanalysis-era5-single-levels'\u001b[0m\u001b[1;33m,\u001b[0m\u001b[1;33m\u001b[0m\u001b[1;33m\u001b[0m\u001b[0m\n\u001b[0;32m      5\u001b[0m     {\n",
      "\u001b[1;31mNameError\u001b[0m: name 'cdstoolbox' is not defined"
     ]
    }
   ],
   "source": [
    "c = cdsapi.Client()\n",
    "\n",
    "data = cdstoolbox.catalogue.retrieve(\n",
    "    'reanalysis-era5-single-levels',\n",
    "    {\n",
    "        'product_type': 'reanalysis',\n",
    "        'variable': [\n",
    "            '2m_temperature', 'total_precipitation',\n",
    "        ],\n",
    "        'year': [\n",
    "            '2007', '2008', '2009',\n",
    "        ],\n",
    "        'month': '01',\n",
    "        'day': '01',\n",
    "        'time': '00:00',\n",
    "    }\n",
    ")"
   ]
  },
  {
   "cell_type": "code",
   "execution_count": 25,
   "id": "64c20c43",
   "metadata": {},
   "outputs": [
    {
     "data": {
      "text/plain": [
       "Result(content_length=5256216,content_type=application/zip,location=https://download-0009.copernicus-climate.eu/cache-compute-0009/cache/data6/dataset-sis-tourism-fire-danger-indicators-b1a1ae25-7ff7-4caa-9960-6642d7503143.zip)"
      ]
     },
     "execution_count": 25,
     "metadata": {},
     "output_type": "execute_result"
    }
   ],
   "source": [
    "data"
   ]
  }
 ],
 "metadata": {
  "kernelspec": {
   "display_name": "Python 3",
   "language": "python",
   "name": "python3"
  },
  "language_info": {
   "codemirror_mode": {
    "name": "ipython",
    "version": 3
   },
   "file_extension": ".py",
   "mimetype": "text/x-python",
   "name": "python",
   "nbconvert_exporter": "python",
   "pygments_lexer": "ipython3",
   "version": "3.8.8"
  }
 },
 "nbformat": 4,
 "nbformat_minor": 5
}
